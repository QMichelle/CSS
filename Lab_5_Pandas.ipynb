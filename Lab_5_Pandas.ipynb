{
  "cells": [
    {
      "cell_type": "markdown",
      "metadata": {
        "id": "view-in-github",
        "colab_type": "text"
      },
      "source": [
        "<a href=\"https://colab.research.google.com/github/QMichelle/CSS/blob/main/Lab_5_Pandas.ipynb\" target=\"_parent\"><img src=\"https://colab.research.google.com/assets/colab-badge.svg\" alt=\"Open In Colab\"/></a>"
      ]
    },
    {
      "cell_type": "markdown",
      "metadata": {
        "id": "6YbwqHVD_axI"
      },
      "source": [
        "## Let's Learn about Pandas Data Frames!\n",
        "Put Your name here\n",
        "\n",
        "Put the date here\n"
      ]
    },
    {
      "cell_type": "markdown",
      "source": [
        "## Copying Notebooks\n",
        "\n",
        "One of the advantages of working with notebooks is that you can share them! So rather than have you copy all of the code in this lab, in this example, you'll begin with a notebook and fill in the details."
      ],
      "metadata": {
        "id": "7RYV6eVdALk7"
      }
    },
    {
      "cell_type": "markdown",
      "metadata": {
        "id": "VC5ZgKJY_axJ"
      },
      "source": [
        "#### About pandas\n",
        "\n",
        "Pandas is a popular library for working with data in Python, and we're going to use it to recreate our menu-driven order system for our restaurant, Route 4A Grill.\n",
        "\n",
        "You can think of a data frame in Python as similar to an attribute table in GIS or a table in a SQL database - data is often organized in columns and rows, where each row is a set of related data, and each column is a similar datatype or attribute.\n",
        "\n",
        "Instead of a key, a data frame uses an index to uniquely identify a row and it's related attributes.\n",
        "\n",
        "You can learn more from this video, https://www.youtube.com/watch?v=zmdjNSmRXF4, and the pandas documentation is available at https://pandas.pydata.org/docs/user_guide/index.html\n",
        "\n",
        "To begin with, let's import the pandas module with a shorthand alias (pd).\n",
        "\n",
        "\n",
        "**Be sure to run the bits of code in the notebook!**\n",
        "\n"
      ]
    },
    {
      "cell_type": "code",
      "execution_count": null,
      "metadata": {
        "id": "0GzCuaSn_axJ"
      },
      "outputs": [],
      "source": [
        "import pandas as pd"
      ]
    },
    {
      "cell_type": "markdown",
      "metadata": {
        "id": "9w_NK6tw_axK"
      },
      "source": [
        "#### Creating a dataframe\n",
        "\n",
        "In this example below, we're going to create a database from a dictionary, where the keys in the dictionary will become the columns of the dataframe.\n",
        "\n",
        "Each key in inventory has a list that will become the data in the dataframe.\n",
        "\n",
        "The df = pd.DataFrame converts the inventory dictionary into our dataframe. Note that we specify which column will be the index.\n",
        "\n",
        "To show the output of a dataframe in Jupyter Notebook, just include the variable on a line by itself.\n",
        "\n",
        "Our dataframe will have four columns:\n",
        "\n",
        "\n",
        "*   A code used to type in the food\n",
        "*   An item name\n",
        "*   A cost\n",
        "*   And the number of the items remaining in the restaurant\n",
        "\n",
        "\n",
        "\n",
        "NOTE: Make sure you run the import line above before running the code below."
      ]
    },
    {
      "cell_type": "code",
      "execution_count": null,
      "metadata": {
        "id": "VCHrrByN_axK",
        "outputId": "3a81329b-e4e5-4309-b0f7-36eae0ad4d89"
      },
      "outputs": [
        {
          "data": {
            "text/html": [
              "<div>\n",
              "<style scoped>\n",
              "    .dataframe tbody tr th:only-of-type {\n",
              "        vertical-align: middle;\n",
              "    }\n",
              "\n",
              "    .dataframe tbody tr th {\n",
              "        vertical-align: top;\n",
              "    }\n",
              "\n",
              "    .dataframe thead th {\n",
              "        text-align: right;\n",
              "    }\n",
              "</style>\n",
              "<table border=\"1\" class=\"dataframe\">\n",
              "  <thead>\n",
              "    <tr style=\"text-align: right;\">\n",
              "      <th></th>\n",
              "      <th>item</th>\n",
              "      <th>cost</th>\n",
              "      <th>remain</th>\n",
              "    </tr>\n",
              "  </thead>\n",
              "  <tbody>\n",
              "    <tr>\n",
              "      <th>h</th>\n",
              "      <td>hamburger</td>\n",
              "      <td>0.4</td>\n",
              "      <td>100</td>\n",
              "    </tr>\n",
              "    <tr>\n",
              "      <th>c</th>\n",
              "      <td>cheeseburger</td>\n",
              "      <td>0.5</td>\n",
              "      <td>50</td>\n",
              "    </tr>\n",
              "    <tr>\n",
              "      <th>f</th>\n",
              "      <td>fries</td>\n",
              "      <td>0.3</td>\n",
              "      <td>200</td>\n",
              "    </tr>\n",
              "    <tr>\n",
              "      <th>p</th>\n",
              "      <td>pepsi</td>\n",
              "      <td>0.3</td>\n",
              "      <td>200</td>\n",
              "    </tr>\n",
              "    <tr>\n",
              "      <th>m</th>\n",
              "      <td>milkshake</td>\n",
              "      <td>1.0</td>\n",
              "      <td>25</td>\n",
              "    </tr>\n",
              "  </tbody>\n",
              "</table>\n",
              "</div>"
            ],
            "text/plain": [
              "           item  cost  remain\n",
              "h     hamburger   0.4     100\n",
              "c  cheeseburger   0.5      50\n",
              "f         fries   0.3     200\n",
              "p         pepsi   0.3     200\n",
              "m     milkshake   1.0      25"
            ]
          },
          "execution_count": 11,
          "metadata": {},
          "output_type": "execute_result"
        }
      ],
      "source": [
        "# create a dictionary of our menu items, including a short code, the item name, the cost, and the number remaining in stock.\n",
        "inventory = { 'code' : ['h', 'c', 'f', 'p', 'm' ],\n",
        "             'item' : ['hamburger', 'cheeseburger', 'fries', 'pepsi', 'milkshake'],\n",
        "             'cost' : [.4, .5, .3, .3, 1],\n",
        "             'remain' : [ 100, 50, 200, 200, 25 ]\n",
        "            }\n",
        "\n",
        "# create the dataframe from our dictionary\n",
        "df = pd.DataFrame(data=inventory, index=inventory['code'], columns = ['item', 'cost','remain'])\n",
        "\n",
        "# output the dataframe\n",
        "df"
      ]
    },
    {
      "cell_type": "markdown",
      "metadata": {
        "id": "kT7Ud8bd_axK"
      },
      "source": [
        "#### Listing a column of information\n",
        "\n",
        "We can list a column of information. In pandas, it will include the index as well - in this case, the code."
      ]
    },
    {
      "cell_type": "code",
      "execution_count": null,
      "metadata": {
        "id": "HZoA_4tv_axK",
        "outputId": "cd4989d5-940f-4674-ad99-f5005b027de7"
      },
      "outputs": [
        {
          "data": {
            "text/plain": [
              "h       hamburger\n",
              "c    cheeseburger\n",
              "f           fries\n",
              "p           pepsi\n",
              "m       milkshake\n",
              "Name: item, dtype: object"
            ]
          },
          "execution_count": 35,
          "metadata": {},
          "output_type": "execute_result"
        }
      ],
      "source": [
        "df[\"item\"]"
      ]
    },
    {
      "cell_type": "markdown",
      "source": [
        "<mark background-color=\"lightyellow\">Question 1. Try listing another column of the dataframe.</mark>\n"
      ],
      "metadata": {
        "id": "Oc2kN5ixBXmf"
      }
    },
    {
      "cell_type": "code",
      "execution_count": null,
      "metadata": {
        "id": "bIPviVcV_axK"
      },
      "outputs": [],
      "source": [
        "# Try listing another column\n"
      ]
    },
    {
      "cell_type": "markdown",
      "metadata": {
        "id": "BN5tUdaB_axK"
      },
      "source": [
        "#### Listing a cell\n",
        "\n",
        "We can also list the value of a cell by using the .loc attribute of the dataframe with the index in the first square brackets and the attribute we want in the second square brackets."
      ]
    },
    {
      "cell_type": "code",
      "execution_count": null,
      "metadata": {
        "id": "PE6smxWG_axL",
        "outputId": "fc78594d-dca0-4563-e7ac-b4b101494e30"
      },
      "outputs": [
        {
          "data": {
            "text/plain": [
              "0.4"
            ]
          },
          "execution_count": 36,
          "metadata": {},
          "output_type": "execute_result"
        }
      ],
      "source": [
        "df.loc['h']['cost']"
      ]
    },
    {
      "cell_type": "markdown",
      "source": [
        "<mark background-color=\"lightyellow\">Question 2. Try listing the value of another cell.</mark>\n"
      ],
      "metadata": {
        "id": "OLeXrVH4B7RQ"
      }
    },
    {
      "cell_type": "code",
      "execution_count": null,
      "metadata": {
        "id": "gR3J-ulw_axL"
      },
      "outputs": [],
      "source": [
        "# Try listing the value of another cell\n"
      ]
    },
    {
      "cell_type": "markdown",
      "metadata": {
        "id": "P_Qt4F54_axL"
      },
      "source": [
        "#### Adding to our menu\n",
        "\n",
        "We can concatenate / append two dataframes together. It's up to the programmer to make sure that the attributes match exactly - including case.\n",
        "\n",
        "We're going to add hummus to our menu. Since the 'h' code is already taken with hamburger, we'll use a y code instead.\n",
        "\n",
        "We can create a new dataframe new_df just like we did above at the beginning."
      ]
    },
    {
      "cell_type": "code",
      "execution_count": null,
      "metadata": {
        "id": "9-DoKr1p_axL",
        "outputId": "a52263dc-f492-4737-8c81-d64dcadc4327"
      },
      "outputs": [
        {
          "data": {
            "text/html": [
              "<div>\n",
              "<style scoped>\n",
              "    .dataframe tbody tr th:only-of-type {\n",
              "        vertical-align: middle;\n",
              "    }\n",
              "\n",
              "    .dataframe tbody tr th {\n",
              "        vertical-align: top;\n",
              "    }\n",
              "\n",
              "    .dataframe thead th {\n",
              "        text-align: right;\n",
              "    }\n",
              "</style>\n",
              "<table border=\"1\" class=\"dataframe\">\n",
              "  <thead>\n",
              "    <tr style=\"text-align: right;\">\n",
              "      <th></th>\n",
              "      <th>item</th>\n",
              "      <th>cost</th>\n",
              "      <th>remain</th>\n",
              "    </tr>\n",
              "  </thead>\n",
              "  <tbody>\n",
              "    <tr>\n",
              "      <th>y</th>\n",
              "      <td>yummy hummus</td>\n",
              "      <td>0.25</td>\n",
              "      <td>2</td>\n",
              "    </tr>\n",
              "  </tbody>\n",
              "</table>\n",
              "</div>"
            ],
            "text/plain": [
              "           item  cost  remain\n",
              "y  yummy hummus  0.25       2"
            ]
          },
          "execution_count": 12,
          "metadata": {},
          "output_type": "execute_result"
        }
      ],
      "source": [
        "new_item = { 'code' : ['y'], 'item' : ['yummy hummus'], 'cost' : [.25], 'remain' : [2] }\n",
        "new_df = pd.DataFrame(data=new_item, index=new_item['code'], columns= [ 'item', 'cost', 'remain'])\n",
        "new_df"
      ]
    },
    {
      "cell_type": "markdown",
      "metadata": {
        "id": "0juFGHGe_axL"
      },
      "source": [
        "The append function let's us add the new dataframe new_df to the already existing dataframe df."
      ]
    },
    {
      "cell_type": "code",
      "execution_count": null,
      "metadata": {
        "id": "OlfgvbqL_axL",
        "outputId": "95e9813f-2e9b-424a-806c-fa0533367436"
      },
      "outputs": [
        {
          "data": {
            "text/html": [
              "<div>\n",
              "<style scoped>\n",
              "    .dataframe tbody tr th:only-of-type {\n",
              "        vertical-align: middle;\n",
              "    }\n",
              "\n",
              "    .dataframe tbody tr th {\n",
              "        vertical-align: top;\n",
              "    }\n",
              "\n",
              "    .dataframe thead th {\n",
              "        text-align: right;\n",
              "    }\n",
              "</style>\n",
              "<table border=\"1\" class=\"dataframe\">\n",
              "  <thead>\n",
              "    <tr style=\"text-align: right;\">\n",
              "      <th></th>\n",
              "      <th>item</th>\n",
              "      <th>cost</th>\n",
              "      <th>remain</th>\n",
              "    </tr>\n",
              "  </thead>\n",
              "  <tbody>\n",
              "    <tr>\n",
              "      <th>h</th>\n",
              "      <td>hamburger</td>\n",
              "      <td>0.40</td>\n",
              "      <td>100</td>\n",
              "    </tr>\n",
              "    <tr>\n",
              "      <th>c</th>\n",
              "      <td>cheeseburger</td>\n",
              "      <td>0.50</td>\n",
              "      <td>50</td>\n",
              "    </tr>\n",
              "    <tr>\n",
              "      <th>f</th>\n",
              "      <td>fries</td>\n",
              "      <td>0.30</td>\n",
              "      <td>200</td>\n",
              "    </tr>\n",
              "    <tr>\n",
              "      <th>p</th>\n",
              "      <td>pepsi</td>\n",
              "      <td>0.30</td>\n",
              "      <td>200</td>\n",
              "    </tr>\n",
              "    <tr>\n",
              "      <th>m</th>\n",
              "      <td>milkshake</td>\n",
              "      <td>1.00</td>\n",
              "      <td>25</td>\n",
              "    </tr>\n",
              "    <tr>\n",
              "      <th>y</th>\n",
              "      <td>yummy hummus</td>\n",
              "      <td>0.25</td>\n",
              "      <td>2</td>\n",
              "    </tr>\n",
              "  </tbody>\n",
              "</table>\n",
              "</div>"
            ],
            "text/plain": [
              "           item  cost  remain\n",
              "h     hamburger  0.40     100\n",
              "c  cheeseburger  0.50      50\n",
              "f         fries  0.30     200\n",
              "p         pepsi  0.30     200\n",
              "m     milkshake  1.00      25\n",
              "y  yummy hummus  0.25       2"
            ]
          },
          "execution_count": 13,
          "metadata": {},
          "output_type": "execute_result"
        }
      ],
      "source": [
        "df=df.append(new_df)\n",
        "df"
      ]
    },
    {
      "cell_type": "markdown",
      "source": [
        "<mark background-color=\"lightyellow\">Question 3. Create a temporary dataframe and add some new menu items to our menu.</mark>\n"
      ],
      "metadata": {
        "id": "UY-Wt0mOCA-_"
      }
    },
    {
      "cell_type": "code",
      "execution_count": null,
      "metadata": {
        "id": "i6iPbtvD_axL"
      },
      "outputs": [],
      "source": [
        "### Create a temporary dataframe and add some new menu items to our menu!\n"
      ]
    },
    {
      "cell_type": "markdown",
      "metadata": {
        "id": "yMhoufhN_axL"
      },
      "source": [
        "#### Deleting a row\n",
        "\n",
        "We're worried about running out of cheese, so we're going to remove the cheeseburger from our menu using the drop method.\n",
        "Notice that drop doesn't remove the data from the dataframe - it returns a copy of the dataframe with the row removed. So to keep it consistent, we have to assign the copy back to df."
      ]
    },
    {
      "cell_type": "code",
      "execution_count": null,
      "metadata": {
        "id": "9PlkLpVu_axM",
        "outputId": "83e7dbf1-543e-48d4-a308-98cca1606534"
      },
      "outputs": [
        {
          "data": {
            "text/html": [
              "<div>\n",
              "<style scoped>\n",
              "    .dataframe tbody tr th:only-of-type {\n",
              "        vertical-align: middle;\n",
              "    }\n",
              "\n",
              "    .dataframe tbody tr th {\n",
              "        vertical-align: top;\n",
              "    }\n",
              "\n",
              "    .dataframe thead th {\n",
              "        text-align: right;\n",
              "    }\n",
              "</style>\n",
              "<table border=\"1\" class=\"dataframe\">\n",
              "  <thead>\n",
              "    <tr style=\"text-align: right;\">\n",
              "      <th></th>\n",
              "      <th>item</th>\n",
              "      <th>cost</th>\n",
              "      <th>remain</th>\n",
              "    </tr>\n",
              "  </thead>\n",
              "  <tbody>\n",
              "    <tr>\n",
              "      <th>h</th>\n",
              "      <td>hamburger</td>\n",
              "      <td>0.40</td>\n",
              "      <td>100</td>\n",
              "    </tr>\n",
              "    <tr>\n",
              "      <th>f</th>\n",
              "      <td>fries</td>\n",
              "      <td>0.30</td>\n",
              "      <td>200</td>\n",
              "    </tr>\n",
              "    <tr>\n",
              "      <th>p</th>\n",
              "      <td>pepsi</td>\n",
              "      <td>0.30</td>\n",
              "      <td>200</td>\n",
              "    </tr>\n",
              "    <tr>\n",
              "      <th>m</th>\n",
              "      <td>milkshake</td>\n",
              "      <td>1.00</td>\n",
              "      <td>25</td>\n",
              "    </tr>\n",
              "    <tr>\n",
              "      <th>y</th>\n",
              "      <td>yummy hummus</td>\n",
              "      <td>0.25</td>\n",
              "      <td>2</td>\n",
              "    </tr>\n",
              "  </tbody>\n",
              "</table>\n",
              "</div>"
            ],
            "text/plain": [
              "           item  cost  remain\n",
              "h     hamburger  0.40     100\n",
              "f         fries  0.30     200\n",
              "p         pepsi  0.30     200\n",
              "m     milkshake  1.00      25\n",
              "y  yummy hummus  0.25       2"
            ]
          },
          "execution_count": 6,
          "metadata": {},
          "output_type": "execute_result"
        }
      ],
      "source": [
        "df = df.drop(['c'])\n",
        "df"
      ]
    },
    {
      "cell_type": "markdown",
      "metadata": {
        "id": "6B_g6YbK_axM"
      },
      "source": [
        "#### Checking if an item is on the menu\n",
        "\n",
        "In our ordering system, we'll have our cashiers put in the codes rather than typing out the whole word. This will save a lot of time. We can check if a code is in the index by using the df.index attribute."
      ]
    },
    {
      "cell_type": "code",
      "execution_count": null,
      "metadata": {
        "id": "z7--4sc0_axM",
        "outputId": "37ba9bd5-d744-4d56-a297-bf53596bb01e"
      },
      "outputs": [
        {
          "name": "stdout",
          "output_type": "stream",
          "text": [
            "Index(['h', 'f', 'p', 'm', 'y'], dtype='object')\n",
            "You can order a hamburger\n"
          ]
        }
      ],
      "source": [
        "print(df.index)\n",
        "if 'h' in df.index:\n",
        "    print(\"You can order a hamburger\")"
      ]
    },
    {
      "cell_type": "markdown",
      "metadata": {
        "id": "nWOzxKkk_axM"
      },
      "source": [
        "#### Checking if we still have an item in stock\n",
        "Of course, in our automated system, once we run out of an item in stock, we want to remove it from the menu. We can do that by using a subscript like this."
      ]
    },
    {
      "cell_type": "code",
      "execution_count": null,
      "metadata": {
        "id": "9BmUt3BH_axM",
        "outputId": "17ba5ab2-a0cc-4a03-f06f-a33746dd38cd"
      },
      "outputs": [
        {
          "data": {
            "text/html": [
              "<div>\n",
              "<style scoped>\n",
              "    .dataframe tbody tr th:only-of-type {\n",
              "        vertical-align: middle;\n",
              "    }\n",
              "\n",
              "    .dataframe tbody tr th {\n",
              "        vertical-align: top;\n",
              "    }\n",
              "\n",
              "    .dataframe thead th {\n",
              "        text-align: right;\n",
              "    }\n",
              "</style>\n",
              "<table border=\"1\" class=\"dataframe\">\n",
              "  <thead>\n",
              "    <tr style=\"text-align: right;\">\n",
              "      <th></th>\n",
              "      <th>item</th>\n",
              "      <th>cost</th>\n",
              "      <th>remain</th>\n",
              "    </tr>\n",
              "  </thead>\n",
              "  <tbody>\n",
              "    <tr>\n",
              "      <th>h</th>\n",
              "      <td>hamburger</td>\n",
              "      <td>0.40</td>\n",
              "      <td>100</td>\n",
              "    </tr>\n",
              "    <tr>\n",
              "      <th>f</th>\n",
              "      <td>fries</td>\n",
              "      <td>0.30</td>\n",
              "      <td>200</td>\n",
              "    </tr>\n",
              "    <tr>\n",
              "      <th>p</th>\n",
              "      <td>pepsi</td>\n",
              "      <td>0.30</td>\n",
              "      <td>200</td>\n",
              "    </tr>\n",
              "    <tr>\n",
              "      <th>m</th>\n",
              "      <td>milkshake</td>\n",
              "      <td>1.00</td>\n",
              "      <td>25</td>\n",
              "    </tr>\n",
              "    <tr>\n",
              "      <th>y</th>\n",
              "      <td>yummy hummus</td>\n",
              "      <td>0.25</td>\n",
              "      <td>2</td>\n",
              "    </tr>\n",
              "  </tbody>\n",
              "</table>\n",
              "</div>"
            ],
            "text/plain": [
              "           item  cost  remain\n",
              "h     hamburger  0.40     100\n",
              "f         fries  0.30     200\n",
              "p         pepsi  0.30     200\n",
              "m     milkshake  1.00      25\n",
              "y  yummy hummus  0.25       2"
            ]
          },
          "execution_count": 8,
          "metadata": {},
          "output_type": "execute_result"
        }
      ],
      "source": [
        "df[df['remain']>0]"
      ]
    },
    {
      "cell_type": "markdown",
      "metadata": {
        "id": "K-KQM40i_axM"
      },
      "source": [
        "#### Removing one item from the inventory.\n",
        "The df.at attribute lets us edit an indivual cell in the dataframe. In this example, someone has ordered hummus (code: y) and we're subtracting one from the remaining inventory."
      ]
    },
    {
      "cell_type": "code",
      "execution_count": null,
      "metadata": {
        "id": "RuHGbB11_axM"
      },
      "outputs": [],
      "source": [
        "df.at['y', 'remain'] = df.at['y','remain'] - 1"
      ]
    },
    {
      "cell_type": "markdown",
      "metadata": {
        "id": "Dc3lKtmp_axM"
      },
      "source": [
        "#### Raising prices\n",
        "We can raise all of the prices exactly 5 cents by using the column 'cost' and treating it as a variable."
      ]
    },
    {
      "cell_type": "code",
      "execution_count": null,
      "metadata": {
        "id": "EE0iPnkG_axM",
        "outputId": "a1fea798-b960-45bd-fd31-5b5939292e3c"
      },
      "outputs": [
        {
          "data": {
            "text/html": [
              "<div>\n",
              "<style scoped>\n",
              "    .dataframe tbody tr th:only-of-type {\n",
              "        vertical-align: middle;\n",
              "    }\n",
              "\n",
              "    .dataframe tbody tr th {\n",
              "        vertical-align: top;\n",
              "    }\n",
              "\n",
              "    .dataframe thead th {\n",
              "        text-align: right;\n",
              "    }\n",
              "</style>\n",
              "<table border=\"1\" class=\"dataframe\">\n",
              "  <thead>\n",
              "    <tr style=\"text-align: right;\">\n",
              "      <th></th>\n",
              "      <th>item</th>\n",
              "      <th>cost</th>\n",
              "      <th>remain</th>\n",
              "    </tr>\n",
              "  </thead>\n",
              "  <tbody>\n",
              "    <tr>\n",
              "      <th>h</th>\n",
              "      <td>hamburger</td>\n",
              "      <td>0.45</td>\n",
              "      <td>100</td>\n",
              "    </tr>\n",
              "    <tr>\n",
              "      <th>c</th>\n",
              "      <td>cheeseburger</td>\n",
              "      <td>0.55</td>\n",
              "      <td>50</td>\n",
              "    </tr>\n",
              "    <tr>\n",
              "      <th>f</th>\n",
              "      <td>fries</td>\n",
              "      <td>0.35</td>\n",
              "      <td>200</td>\n",
              "    </tr>\n",
              "    <tr>\n",
              "      <th>p</th>\n",
              "      <td>pepsi</td>\n",
              "      <td>0.35</td>\n",
              "      <td>200</td>\n",
              "    </tr>\n",
              "    <tr>\n",
              "      <th>m</th>\n",
              "      <td>milkshake</td>\n",
              "      <td>1.05</td>\n",
              "      <td>25</td>\n",
              "    </tr>\n",
              "    <tr>\n",
              "      <th>y</th>\n",
              "      <td>yummy hummus</td>\n",
              "      <td>0.30</td>\n",
              "      <td>2</td>\n",
              "    </tr>\n",
              "  </tbody>\n",
              "</table>\n",
              "</div>"
            ],
            "text/plain": [
              "           item  cost  remain\n",
              "h     hamburger  0.45     100\n",
              "c  cheeseburger  0.55      50\n",
              "f         fries  0.35     200\n",
              "p         pepsi  0.35     200\n",
              "m     milkshake  1.05      25\n",
              "y  yummy hummus  0.30       2"
            ]
          },
          "execution_count": 14,
          "metadata": {},
          "output_type": "execute_result"
        }
      ],
      "source": [
        "df['cost'] = df['cost'] + .05\n",
        "df"
      ]
    },
    {
      "cell_type": "markdown",
      "source": [
        "<mark background-color=\"lightyellow\">Question 4. Add some hummus (or more products) back into the inventory.</mark>\n"
      ],
      "metadata": {
        "id": "1NmgK43HCMEc"
      }
    },
    {
      "cell_type": "code",
      "execution_count": null,
      "metadata": {
        "id": "_MNIde52_axM"
      },
      "outputs": [],
      "source": [
        "# A new shipment has arrived! Add some hummus back into the inventory."
      ]
    },
    {
      "cell_type": "markdown",
      "metadata": {
        "id": "Xrel3Lw1_axM"
      },
      "source": [
        "### Challenge Problem - create an order function\n",
        "\n",
        "Above, I've given you all of the pieces to create a new order function that takes in the dataframe. It should\n",
        "- take in a code as an order\n",
        "- check if the code is valid\n",
        "- check if the item is still in stock\n",
        "- remove one item from the inventory\n",
        "- add the cost of the item to to the total bill\n",
        "- and return the order and total cost."
      ]
    },
    {
      "cell_type": "markdown",
      "source": [
        "<mark background-color=\"lightyellow\">Question 5. Fill in the parts of the function, and run the code below.</mark>\n"
      ],
      "metadata": {
        "id": "Z1iMkLWeCSFZ"
      }
    },
    {
      "cell_type": "code",
      "execution_count": null,
      "metadata": {
        "id": "O78o8QLR_axM",
        "outputId": "d200c5d1-dc49-4489-eaa8-0d96d0025504"
      },
      "outputs": [
        {
          "name": "stdout",
          "output_type": "stream",
          "text": [
            "           item  cost  remain\n",
            "h     hamburger  0.40     100\n",
            "c  cheeseburger  0.50      50\n",
            "f         fries  0.30     200\n",
            "p         pepsi  0.30     200\n",
            "m     milkshake  1.00      25\n",
            "y  yummy hummus  0.25       1\n"
          ]
        }
      ],
      "source": [
        "def order(df):\n",
        "    menu_item = True\n",
        "    total_cost = 0.0\n",
        "    this_order = [ ]\n",
        "\n",
        "    while menu_item == True:\n",
        "        # print the menu and short keys\n",
        "        print(df[df['remain']>0])\n",
        "        # take in a code as an order\n",
        "        menu_item = input(\"Select from the menu [Enter to be done]>\")\n",
        "\n",
        "            # check if the code is valid\n",
        "\n",
        "            # check if the item is still in stock\n",
        "\n",
        "            # remove one item from the inventory\n",
        "\n",
        "            # add the cost of the item ot the total bill\n",
        "\n",
        "        # return the total cost and the order\n",
        "        return\n",
        "\n",
        "order(df)"
      ]
    },
    {
      "cell_type": "markdown",
      "source": [
        "# Geopandas\n",
        "\n",
        "An geospatial extension of pandas is geopandas, which you can learn more about here: https://geopandas.org/en/stable/\n",
        "\n",
        "Geopandas stores data in rows and columns like pandas does, but it also includes geometry data that can be mapped. We'll dive more into Geopandas in the future. But for now, let's try a short example.\n",
        "\n",
        "<mark background-color=\"lightyellow\">Question 6. Run the code below. What does it do?</mark>\n",
        "\n"
      ],
      "metadata": {
        "id": "81WdfDFeC2JP"
      }
    },
    {
      "cell_type": "code",
      "source": [
        "import geopandas as gpd\n",
        "\n",
        "denver_data = gpd.read_file(\"https://www.denvergov.org/media/gis/DataCatalog/census_neighborhood_demographics_2010/shape/census_neighborhood_demographics_2010.zip\")\n",
        "denver_data.plot(\"POPULATION\",legend=True)"
      ],
      "metadata": {
        "id": "ANEPRVGlDVVB"
      },
      "execution_count": null,
      "outputs": []
    },
    {
      "cell_type": "markdown",
      "source": [
        "#Reflection Questions\n",
        "\n",
        "Answer these in a text box below.\n",
        "\n",
        "<mark background-color=\"lightyellow\">Question 7. How long did this assignment take you to complete?</mark>\n",
        "\n",
        "<mark background-color=\"lightyellow\">Question 8. Where did you get stuck? What did you do to get help?</mark>\n",
        "\n",
        "<mark background-color=\"lightyellow\">Question 9. What would a useful application of Pandas be for your projects?</mark>\n",
        "\n",
        "\n"
      ],
      "metadata": {
        "id": "9JGnNeqpCfa4"
      }
    },
    {
      "cell_type": "markdown",
      "metadata": {
        "id": "P9ujZKoq_axM"
      },
      "source": [
        "<mark background-color=\"lightyellow\">Save your file as a PDF and upload to Canvas.</mark>\n"
      ]
    }
  ],
  "metadata": {
    "esriNotebookRuntime": {
      "notebookRuntimeName": "ArcGIS Notebook Python 3 Standard",
      "notebookRuntimeVersion": "4.0"
    },
    "kernelspec": {
      "display_name": "Python 3",
      "language": "python",
      "name": "python3"
    },
    "language_info": {
      "codemirror_mode": {
        "name": "ipython",
        "version": 3
      },
      "file_extension": ".py",
      "mimetype": "text/x-python",
      "name": "python",
      "nbconvert_exporter": "python",
      "pygments_lexer": "ipython3",
      "version": "3.6.10"
    },
    "colab": {
      "provenance": [],
      "include_colab_link": true
    }
  },
  "nbformat": 4,
  "nbformat_minor": 0
}